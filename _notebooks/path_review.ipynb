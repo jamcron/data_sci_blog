{
 "cells": [
  {
   "cell_type": "code",
   "execution_count": 1,
   "id": "8956673c",
   "metadata": {},
   "outputs": [
    {
     "data": {
      "text/plain": [
       "True"
      ]
     },
     "execution_count": 1,
     "metadata": {},
     "output_type": "execute_result"
    }
   ],
   "source": [
    "from fastai.vision.all import *\n",
    "import numpy as np\n",
    "torch.cuda.is_available()"
   ]
  },
  {
   "cell_type": "code",
   "execution_count": 21,
   "id": "14b78b8d",
   "metadata": {},
   "outputs": [],
   "source": [
    "path = Path(\"/home/james/ml/Data/Tiles/256_256_10\")\n",
    "df = pd.read_csv(path/\"path_review.csv\")"
   ]
  },
  {
   "cell_type": "code",
   "execution_count": 22,
   "id": "2eb98337",
   "metadata": {},
   "outputs": [
    {
     "data": {
      "text/html": [
       "<div>\n",
       "<style scoped>\n",
       "    .dataframe tbody tr th:only-of-type {\n",
       "        vertical-align: middle;\n",
       "    }\n",
       "\n",
       "    .dataframe tbody tr th {\n",
       "        vertical-align: top;\n",
       "    }\n",
       "\n",
       "    .dataframe thead th {\n",
       "        text-align: right;\n",
       "    }\n",
       "</style>\n",
       "<table border=\"1\" class=\"dataframe\">\n",
       "  <thead>\n",
       "    <tr style=\"text-align: right;\">\n",
       "      <th></th>\n",
       "      <th>Unnamed: 0</th>\n",
       "      <th>Unnamed: 0.1</th>\n",
       "      <th>fname</th>\n",
       "      <th>thresh</th>\n",
       "      <th>tumor</th>\n",
       "      <th>targ</th>\n",
       "      <th>pred</th>\n",
       "      <th>normal_pred</th>\n",
       "      <th>tumor_pred</th>\n",
       "      <th>tot</th>\n",
       "      <th>area</th>\n",
       "      <th>is_valid</th>\n",
       "      <th>SM</th>\n",
       "      <th>Inflammatory aggregates</th>\n",
       "      <th>Adipose</th>\n",
       "      <th>FB+Collagen</th>\n",
       "      <th>Arteries</th>\n",
       "      <th>Veins, lymphatics</th>\n",
       "      <th>Minimal tissue</th>\n",
       "    </tr>\n",
       "  </thead>\n",
       "  <tbody>\n",
       "    <tr>\n",
       "      <th>0</th>\n",
       "      <td>0</td>\n",
       "      <td>822</td>\n",
       "      <td>tile_TCGA-3B-A9HT-01Z-00-DX1.CC77DDAC-D63C-42A4-B3FE-A505BEB31EED.svs_100352_50176.png</td>\n",
       "      <td>60</td>\n",
       "      <td>0</td>\n",
       "      <td>0</td>\n",
       "      <td>1</td>\n",
       "      <td>0.314090</td>\n",
       "      <td>0.685910</td>\n",
       "      <td>1.048576e+06</td>\n",
       "      <td>100.000000</td>\n",
       "      <td>1</td>\n",
       "      <td>1</td>\n",
       "      <td>0</td>\n",
       "      <td>0</td>\n",
       "      <td>0</td>\n",
       "      <td>0</td>\n",
       "      <td>0</td>\n",
       "      <td>0</td>\n",
       "    </tr>\n",
       "    <tr>\n",
       "      <th>1</th>\n",
       "      <td>1</td>\n",
       "      <td>778</td>\n",
       "      <td>tile_TCGA-3B-A9HT-01Z-00-DX1.CC77DDAC-D63C-42A4-B3FE-A505BEB31EED.svs_102400_47104.png</td>\n",
       "      <td>90</td>\n",
       "      <td>0</td>\n",
       "      <td>0</td>\n",
       "      <td>1</td>\n",
       "      <td>0.055509</td>\n",
       "      <td>0.944492</td>\n",
       "      <td>1.048576e+06</td>\n",
       "      <td>100.000000</td>\n",
       "      <td>1</td>\n",
       "      <td>1</td>\n",
       "      <td>0</td>\n",
       "      <td>0</td>\n",
       "      <td>0</td>\n",
       "      <td>0</td>\n",
       "      <td>0</td>\n",
       "      <td>0</td>\n",
       "    </tr>\n",
       "    <tr>\n",
       "      <th>2</th>\n",
       "      <td>2</td>\n",
       "      <td>832</td>\n",
       "      <td>tile_TCGA-3B-A9HT-01Z-00-DX1.CC77DDAC-D63C-42A4-B3FE-A505BEB31EED.svs_102400_48128.png</td>\n",
       "      <td>83</td>\n",
       "      <td>0</td>\n",
       "      <td>0</td>\n",
       "      <td>1</td>\n",
       "      <td>0.040321</td>\n",
       "      <td>0.959679</td>\n",
       "      <td>1.048576e+06</td>\n",
       "      <td>100.000000</td>\n",
       "      <td>1</td>\n",
       "      <td>1</td>\n",
       "      <td>0</td>\n",
       "      <td>0</td>\n",
       "      <td>0</td>\n",
       "      <td>0</td>\n",
       "      <td>0</td>\n",
       "      <td>0</td>\n",
       "    </tr>\n",
       "    <tr>\n",
       "      <th>3</th>\n",
       "      <td>3</td>\n",
       "      <td>734</td>\n",
       "      <td>tile_TCGA-3B-A9HT-01Z-00-DX1.CC77DDAC-D63C-42A4-B3FE-A505BEB31EED.svs_102400_49152.png</td>\n",
       "      <td>50</td>\n",
       "      <td>0</td>\n",
       "      <td>0</td>\n",
       "      <td>1</td>\n",
       "      <td>0.142012</td>\n",
       "      <td>0.857988</td>\n",
       "      <td>1.048576e+06</td>\n",
       "      <td>100.000000</td>\n",
       "      <td>1</td>\n",
       "      <td>1</td>\n",
       "      <td>0</td>\n",
       "      <td>0</td>\n",
       "      <td>0</td>\n",
       "      <td>0</td>\n",
       "      <td>1</td>\n",
       "      <td>0</td>\n",
       "    </tr>\n",
       "    <tr>\n",
       "      <th>4</th>\n",
       "      <td>4</td>\n",
       "      <td>705</td>\n",
       "      <td>tile_TCGA-3B-A9HT-01Z-00-DX1.CC77DDAC-D63C-42A4-B3FE-A505BEB31EED.svs_103424_46080.png</td>\n",
       "      <td>90</td>\n",
       "      <td>0</td>\n",
       "      <td>0</td>\n",
       "      <td>1</td>\n",
       "      <td>0.216673</td>\n",
       "      <td>0.783327</td>\n",
       "      <td>9.941901e+05</td>\n",
       "      <td>94.813352</td>\n",
       "      <td>1</td>\n",
       "      <td>1</td>\n",
       "      <td>0</td>\n",
       "      <td>0</td>\n",
       "      <td>0</td>\n",
       "      <td>0</td>\n",
       "      <td>0</td>\n",
       "      <td>0</td>\n",
       "    </tr>\n",
       "  </tbody>\n",
       "</table>\n",
       "</div>"
      ],
      "text/plain": [
       "   Unnamed: 0  Unnamed: 0.1  \\\n",
       "0           0           822   \n",
       "1           1           778   \n",
       "2           2           832   \n",
       "3           3           734   \n",
       "4           4           705   \n",
       "\n",
       "                                                                                    fname  \\\n",
       "0  tile_TCGA-3B-A9HT-01Z-00-DX1.CC77DDAC-D63C-42A4-B3FE-A505BEB31EED.svs_100352_50176.png   \n",
       "1  tile_TCGA-3B-A9HT-01Z-00-DX1.CC77DDAC-D63C-42A4-B3FE-A505BEB31EED.svs_102400_47104.png   \n",
       "2  tile_TCGA-3B-A9HT-01Z-00-DX1.CC77DDAC-D63C-42A4-B3FE-A505BEB31EED.svs_102400_48128.png   \n",
       "3  tile_TCGA-3B-A9HT-01Z-00-DX1.CC77DDAC-D63C-42A4-B3FE-A505BEB31EED.svs_102400_49152.png   \n",
       "4  tile_TCGA-3B-A9HT-01Z-00-DX1.CC77DDAC-D63C-42A4-B3FE-A505BEB31EED.svs_103424_46080.png   \n",
       "\n",
       "   thresh  tumor  targ  pred  normal_pred  tumor_pred           tot  \\\n",
       "0      60      0     0     1     0.314090    0.685910  1.048576e+06   \n",
       "1      90      0     0     1     0.055509    0.944492  1.048576e+06   \n",
       "2      83      0     0     1     0.040321    0.959679  1.048576e+06   \n",
       "3      50      0     0     1     0.142012    0.857988  1.048576e+06   \n",
       "4      90      0     0     1     0.216673    0.783327  9.941901e+05   \n",
       "\n",
       "         area  is_valid  SM  Inflammatory aggregates  Adipose  FB+Collagen  \\\n",
       "0  100.000000         1   1                        0        0            0   \n",
       "1  100.000000         1   1                        0        0            0   \n",
       "2  100.000000         1   1                        0        0            0   \n",
       "3  100.000000         1   1                        0        0            0   \n",
       "4   94.813352         1   1                        0        0            0   \n",
       "\n",
       "   Arteries  Veins, lymphatics  Minimal tissue  \n",
       "0         0                  0               0  \n",
       "1         0                  0               0  \n",
       "2         0                  0               0  \n",
       "3         0                  1               0  \n",
       "4         0                  0               0  "
      ]
     },
     "execution_count": 22,
     "metadata": {},
     "output_type": "execute_result"
    }
   ],
   "source": [
    "df.head()"
   ]
  },
  {
   "cell_type": "code",
   "execution_count": 23,
   "id": "65e0be59",
   "metadata": {},
   "outputs": [
    {
     "data": {
      "text/plain": [
       "0    940\n",
       "1     57\n",
       "Name: Minimal tissue, dtype: int64"
      ]
     },
     "execution_count": 23,
     "metadata": {},
     "output_type": "execute_result"
    }
   ],
   "source": [
    "df['Minimal tissue'].value_counts()"
   ]
  },
  {
   "cell_type": "code",
   "execution_count": 24,
   "id": "5590316c",
   "metadata": {},
   "outputs": [
    {
     "data": {
      "text/plain": [
       "(940, 19)"
      ]
     },
     "execution_count": 24,
     "metadata": {},
     "output_type": "execute_result"
    }
   ],
   "source": [
    "df = df[df['Minimal tissue']==0]\n",
    "df.shape"
   ]
  },
  {
   "cell_type": "code",
   "execution_count": 34,
   "id": "8742010d",
   "metadata": {},
   "outputs": [],
   "source": [
    "mis_df = df[df['targ']!=df['pred']]\n",
    "cor_df = df[df['targ']==df['pred']]"
   ]
  },
  {
   "cell_type": "code",
   "execution_count": 35,
   "id": "21db2bef",
   "metadata": {},
   "outputs": [
    {
     "data": {
      "text/plain": [
       "((476, 19), (464, 19))"
      ]
     },
     "execution_count": 35,
     "metadata": {},
     "output_type": "execute_result"
    }
   ],
   "source": [
    "mis_df.shape, cor_df.shape"
   ]
  },
  {
   "cell_type": "code",
   "execution_count": 36,
   "id": "9bc2ac22",
   "metadata": {},
   "outputs": [
    {
     "data": {
      "text/plain": [
       "(1    324\n",
       " 0    152\n",
       " Name: SM, dtype: int64,\n",
       " 0    396\n",
       " 1     68\n",
       " Name: SM, dtype: int64)"
      ]
     },
     "execution_count": 36,
     "metadata": {},
     "output_type": "execute_result"
    }
   ],
   "source": [
    "mis_df['SM'].value_counts(), cor_df['SM'].value_counts()"
   ]
  },
  {
   "cell_type": "code",
   "execution_count": 37,
   "id": "65b81081",
   "metadata": {},
   "outputs": [
    {
     "data": {
      "text/plain": [
       "(0    436\n",
       " 1     40\n",
       " Name: Inflammatory aggregates, dtype: int64,\n",
       " 0    445\n",
       " 1     19\n",
       " Name: Inflammatory aggregates, dtype: int64)"
      ]
     },
     "execution_count": 37,
     "metadata": {},
     "output_type": "execute_result"
    }
   ],
   "source": [
    "mis_df['Inflammatory aggregates'].value_counts(), cor_df['Inflammatory aggregates'].value_counts()"
   ]
  },
  {
   "cell_type": "code",
   "execution_count": 38,
   "id": "8884627f",
   "metadata": {},
   "outputs": [
    {
     "data": {
      "text/plain": [
       "(0    461\n",
       " 1     15\n",
       " Name: Adipose, dtype: int64,\n",
       " 0    356\n",
       " 1    108\n",
       " Name: Adipose, dtype: int64)"
      ]
     },
     "execution_count": 38,
     "metadata": {},
     "output_type": "execute_result"
    }
   ],
   "source": [
    "mis_df['Adipose'].value_counts(), cor_df['Adipose'].value_counts()"
   ]
  },
  {
   "cell_type": "code",
   "execution_count": 39,
   "id": "7943fc4c",
   "metadata": {},
   "outputs": [
    {
     "data": {
      "text/plain": [
       "(1    304\n",
       " 0    172\n",
       " Name: FB+Collagen, dtype: int64,\n",
       " 1    383\n",
       " 0     81\n",
       " Name: FB+Collagen, dtype: int64)"
      ]
     },
     "execution_count": 39,
     "metadata": {},
     "output_type": "execute_result"
    }
   ],
   "source": [
    "mis_df['FB+Collagen'].value_counts(), cor_df['FB+Collagen'].value_counts()"
   ]
  },
  {
   "cell_type": "code",
   "execution_count": 40,
   "id": "1f47a7d4",
   "metadata": {},
   "outputs": [
    {
     "data": {
      "text/plain": [
       "(0    445\n",
       " 1     31\n",
       " Name: Arteries, dtype: int64,\n",
       " 0    405\n",
       " 1     59\n",
       " Name: Arteries, dtype: int64)"
      ]
     },
     "execution_count": 40,
     "metadata": {},
     "output_type": "execute_result"
    }
   ],
   "source": [
    "mis_df['Arteries'].value_counts(), cor_df['Arteries'].value_counts()"
   ]
  },
  {
   "cell_type": "code",
   "execution_count": 41,
   "id": "d0cb1fed",
   "metadata": {},
   "outputs": [
    {
     "data": {
      "text/plain": [
       "(0    402\n",
       " 1     74\n",
       " Name: Veins, lymphatics, dtype: int64,\n",
       " 0    427\n",
       " 1     37\n",
       " Name: Veins, lymphatics, dtype: int64)"
      ]
     },
     "execution_count": 41,
     "metadata": {},
     "output_type": "execute_result"
    }
   ],
   "source": [
    "mis_df['Veins, lymphatics'].value_counts(), cor_df['Veins, lymphatics'].value_counts()"
   ]
  },
  {
   "cell_type": "code",
   "execution_count": null,
   "id": "a20a51d1",
   "metadata": {},
   "outputs": [],
   "source": []
  },
  {
   "cell_type": "code",
   "execution_count": null,
   "id": "ae999ef4",
   "metadata": {},
   "outputs": [],
   "source": []
  }
 ],
 "metadata": {
  "kernelspec": {
   "display_name": "Pytorch env",
   "language": "python",
   "name": "pytorch"
  },
  "language_info": {
   "codemirror_mode": {
    "name": "ipython",
    "version": 3
   },
   "file_extension": ".py",
   "mimetype": "text/x-python",
   "name": "python",
   "nbconvert_exporter": "python",
   "pygments_lexer": "ipython3",
   "version": "3.8.2"
  }
 },
 "nbformat": 4,
 "nbformat_minor": 5
}
